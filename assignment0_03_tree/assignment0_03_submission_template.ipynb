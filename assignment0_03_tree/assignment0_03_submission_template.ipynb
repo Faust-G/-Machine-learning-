{
 "cells": [
  {
   "cell_type": "markdown",
   "metadata": {},
   "source": [
    "Before you submit this notebook, make sure everything runs as expected in the local test cases. \n",
    "Please, paste the solution to the designed cell and do not change anything else.\n",
    "\n",
    "Also, please, leave your first and last names below"
   ]
  },
  {
   "cell_type": "code",
   "execution_count": 1,
   "metadata": {},
   "outputs": [],
   "source": [
    "FirstName = \"Viacheslav\"\n",
    "LastName = \"Barinov\""
   ]
  },
  {
   "cell_type": "markdown",
   "metadata": {},
   "source": [
    "---"
   ]
  },
  {
   "cell_type": "code",
   "execution_count": 2,
   "metadata": {},
   "outputs": [],
   "source": [
    "import numpy as np\n",
    "from sklearn.base import BaseEstimator\n",
    "from sklearn.preprocessing import OneHotEncoder"
   ]
  },
  {
   "cell_type": "code",
   "execution_count": 3,
   "metadata": {},
   "outputs": [],
   "source": [
    "def entropy(y):  \n",
    "    EPS = 0.0005\n",
    "    proba = np.sum(y, axis = 0)/y.shape[0]\n",
    "    log_proba = np.log(proba + EPS)\n",
    "\n",
    "    res =  -np.dot(proba, log_proba.T)\n",
    "    \n",
    "    return res\n",
    "    \n",
    "def gini(y):\n",
    "    proba = np.sum(y, axis = 0)/y.shape[0]\n",
    "    res = 1 - np.sum(np.power(proba,2))\n",
    "    \n",
    "    return res\n",
    "    \n",
    "def variance(y):\n",
    "    y = np.power(y - np.mean(y), 2)\n",
    "    res = np.sum(y)/y.shape[0]\n",
    "    return res\n",
    "\n",
    "def mad_median(y):\n",
    "    y = np.abs(y - np.median(y))\n",
    "    res = np.sum(y)/y.shape[0]\n",
    "    return res\n",
    "\n",
    "\n",
    "def one_hot_encode(n_classes, y):\n",
    "    y_one_hot = np.zeros((len(y), n_classes), dtype=float)\n",
    "    y_one_hot[np.arange(len(y)), y.astype(int)[:, 0]] = 1.\n",
    "    return y_one_hot\n",
    "\n",
    "\n",
    "def one_hot_decode(y_one_hot):\n",
    "    return y_one_hot.argmax(axis=1)[:, None]\n",
    "\n",
    "\n",
    "class Node:\n",
    "    def __init__(self, feature_index, threshold, proba=0):\n",
    "        self.feature_index = feature_index\n",
    "        self.value = threshold\n",
    "        self.proba = proba\n",
    "        self.left_child = None\n",
    "        self.right_child = None\n",
    "        \n",
    "        \n",
    "class DecisionTree(BaseEstimator):\n",
    "    all_criterions = {\n",
    "        'gini': (gini, True),\n",
    "        'entropy': (entropy, True),\n",
    "        'variance': (variance, False),\n",
    "        'mad_median': (mad_median, False)\n",
    "    }\n",
    "\n",
    "    def __init__(self, n_classes=None, max_depth=np.inf, min_samples_split=2, \n",
    "                 criterion_name='gini', debug=False):\n",
    "\n",
    "        assert criterion_name in self.all_criterions.keys(), 'Criterion name must be on of the following: {}'.format(self.all_criterions.keys())\n",
    "        \n",
    "        self.n_classes = n_classes\n",
    "        self.max_depth = max_depth\n",
    "        self.min_samples_split = min_samples_split\n",
    "        self.criterion_name = criterion_name\n",
    "        self.depth = 0\n",
    "        self.root = None\n",
    "        self.debug = debug\n",
    "        \n",
    "        \n",
    "        \n",
    "        \n",
    "        \n",
    "    def make_split(self, feature_index, threshold, X_subset, y_subset):\n",
    "        left = X_subset[:, feature_index] < threshold\n",
    "        right = X_subset[:, feature_index] >= threshold\n",
    "        \n",
    "\n",
    "        X_left = X_subset[left, : ]\n",
    "        y_left = y_subset[left, : ]\n",
    "\n",
    "        X_right = X_subset[right, : ]\n",
    "        y_right= y_subset[right, : ]\n",
    "\n",
    "        return (X_left, y_left), (X_right, y_right)\n",
    "    \n",
    "    def make_split_only_y(self, feature_index, threshold, X_subset, y_subset):\n",
    "        left = X_subset[:, feature_index] < threshold\n",
    "        right = X_subset[:, feature_index] >= threshold\n",
    "\n",
    "        y_left = y_subset[left, : ]\n",
    "\n",
    "        y_right= y_subset[right, : ]\n",
    "        \n",
    "        return y_left, y_right\n",
    "\n",
    "    def choose_best_split(self, X_subset, y_subset):\n",
    "        H_m = self.criterion(y_subset)\n",
    "        feature_index, threshold, best_result = -1, -1, -1e9\n",
    "        for i in range(X_subset.shape[1]):\n",
    "            values = np.sort(np.unique(X_subset[:, i]))\n",
    "            for j in range(1, len(values)):\n",
    "                left, right = self.make_split_only_y(i,values[j], X_subset, y_subset)\n",
    "                H_l_n = self.criterion(left) * left.shape[0] / y_subset.shape[0]\n",
    "                H_r_n = self.criterion(right) * right.shape[0] / y_subset.shape[0]\n",
    "                res = H_m - H_l_n - H_r_n\n",
    "                if res > best_result:\n",
    "                    feature_index = i\n",
    "                    threshold = values[j]\n",
    "                    best_result = res\n",
    "\n",
    "            \n",
    "\n",
    "        return feature_index, threshold\n",
    "    \n",
    "    def make_tree(self, X_subset, y_subset, depth = 0):\n",
    "        new_node = Node(-1, -1, proba=np.sum(y_subset,axis = 0) / y_subset.shape[0])\n",
    "        if depth >= self.max_depth or X_subset.shape[0] < self.min_samples_split:\n",
    "            return new_node\n",
    "        if self.classification and np.max(np.sum(y_subset, axis = 0)) == y_subset.shape[0]:\n",
    "            return new_node\n",
    "        if not self.classification and np.unique(y_subset).shape[0] == 1:\n",
    "            return new_node\n",
    "        feature_index, threshold = self.choose_best_split(X_subset, y_subset)\n",
    "        if feature_index == -1:\n",
    "            return new_node\n",
    "        new_node.feature_index = feature_index\n",
    "        new_node.value = threshold\n",
    "        left, right = self.make_split(feature_index, threshold, X_subset, y_subset)\n",
    "        new_node.left_child = self.make_tree(left[0], left[1], depth + 1)\n",
    "        new_node.right_child = self.make_tree(right[0], right[1], depth + 1)\n",
    "        return new_node\n",
    "\n",
    "    \n",
    "           \n",
    "    def fit(self, X, y):\n",
    "        assert len(y.shape) == 2 and len(y) == len(X), 'Wrong y shape'\n",
    "        self.criterion, self.classification = self.all_criterions[self.criterion_name]\n",
    "        if self.classification:\n",
    "            if self.n_classes is None:\n",
    "                self.n_classes = len(np.unique(y))\n",
    "            y = one_hot_encode(self.n_classes, y)\n",
    "\n",
    "\n",
    "        self.root = self.make_tree(X, y)\n",
    "    def predict_help(self, X, node: Node, mask = None):\n",
    "        if mask is None:\n",
    "            y = [node.proba for i in range(X.shape[0])]\n",
    "            y = np.array(y)\n",
    "            mask = np.full(X.shape[0], True)\n",
    "        else:\n",
    "            y = np.zeros((X.shape[0], node.proba.shape[0]))\n",
    "            y[mask, : ] = node.proba\n",
    "        if not node.left_child  is None:\n",
    "            mask_l = np.logical_and(mask, X[:, node.feature_index] < node.value)\n",
    "            y[mask_l] = self.predict_help(X, node.left_child, mask_l)\n",
    "        if not node.right_child  is None:\n",
    "            mask_r = np.logical_and(mask, np.logical_not(mask_l))\n",
    "            y[mask_r] = self.predict_help(X, node.right_child, mask_r)\n",
    "        return y[mask]\n",
    "\n",
    "    def predict(self, X):\n",
    "        y_predicted = self.predict_help(X, self.root, None)\n",
    "        if self.classification:\n",
    "            y_predicted = np.argmax(y_predicted, axis=1)\n",
    "        return y_predicted\n",
    "        \n",
    "    def predict_proba(self, X):\n",
    "        assert self.classification, 'Available only for classification problem'\n",
    "        y_predicted_probs = self.predict_help(X, self.root)\n",
    "\n",
    "        return y_predicted_probs"
   ]
  },
  {
   "cell_type": "markdown",
   "metadata": {},
   "source": [
    "### Test 0: Initialization (0.01 points)"
   ]
  },
  {
   "cell_type": "code",
   "execution_count": 4,
   "metadata": {
    "deletable": false,
    "editable": false,
    "nbgrader": {
     "cell_type": "code",
     "checksum": "3dee5ee83e0f63188671f08b57d70804",
     "grade": true,
     "grade_id": "cell-3473b7b6ffd64d07",
     "locked": true,
     "points": 0.01,
     "schema_version": 3,
     "solution": false,
     "task": false
    }
   },
   "outputs": [],
   "source": [
    "# do not change this cell\n",
    "import numpy as np\n",
    "import unittest\n",
    "import sys\n",
    "import io\n",
    "\n",
    "from sklearn.datasets import fetch_california_housing, load_digits\n",
    "from sklearn.metrics import accuracy_score, mean_squared_error\n",
    "from sklearn.model_selection import train_test_split\n",
    "\n",
    "digits_data = load_digits(n_class=2).data\n",
    "digits_target = load_digits(n_class=2).target[:, None]\n",
    "\n"
   ]
  },
  {
   "cell_type": "markdown",
   "metadata": {},
   "source": [
    "### Test 1: Make splits loops (0.1 points)"
   ]
  },
  {
   "cell_type": "code",
   "execution_count": 5,
   "metadata": {
    "deletable": false,
    "editable": false,
    "nbgrader": {
     "cell_type": "code",
     "checksum": "48b2963c650791df41dfbd190ed247fd",
     "grade": true,
     "grade_id": "cell-e3503c286039ec55",
     "locked": true,
     "points": 0.09,
     "schema_version": 3,
     "solution": false,
     "task": false
    }
   },
   "outputs": [],
   "source": [
    "X = np.ones((4, 5), dtype=float) * np.arange(4)[:, None]\n",
    "y = np.arange(4)[:, None] + np.asarray([0.2, -0.3, 0.1, 0.4])[:, None]\n",
    "class_estimator = DecisionTree(max_depth=5, criterion_name='gini')\n",
    "\n",
    "(X_l, y_l), (X_r, y_r) = class_estimator.make_split(1, 1., X, y)\n",
    "\n",
    "flag_X = np.array_equal(X[:1], X_l) and np.array_equal(X[1:], X_r) \n",
    "flag_y = np.array_equal(y[:1], y_l) and np.array_equal(y[1:], y_r)\n",
    "assert flag_X and flag_y"
   ]
  },
  {
   "cell_type": "markdown",
   "metadata": {},
   "source": [
    "### Test 2: Gini accuracy (0.2 points)"
   ]
  },
  {
   "cell_type": "code",
   "execution_count": 6,
   "metadata": {
    "deletable": false,
    "editable": false,
    "nbgrader": {
     "cell_type": "code",
     "checksum": "4a2a5e274d8d866e1242a339a7751642",
     "grade": true,
     "grade_id": "cell-e2c4124a6f815118",
     "locked": true,
     "points": 0.2,
     "schema_version": 3,
     "solution": false,
     "task": false
    }
   },
   "outputs": [
    {
     "ename": "NameError",
     "evalue": "name 'X_train' is not defined",
     "output_type": "error",
     "traceback": [
      "\u001b[0;31m---------------------------------------------------------------------------\u001b[0m",
      "\u001b[0;31mNameError\u001b[0m                                 Traceback (most recent call last)",
      "Cell \u001b[0;32mIn[6], line 2\u001b[0m\n\u001b[1;32m      1\u001b[0m class_estimator \u001b[39m=\u001b[39m DecisionTree(max_depth\u001b[39m=\u001b[39m\u001b[39m5\u001b[39m, criterion_name\u001b[39m=\u001b[39m\u001b[39m'\u001b[39m\u001b[39mgini\u001b[39m\u001b[39m'\u001b[39m)\n\u001b[0;32m----> 2\u001b[0m class_estimator\u001b[39m.\u001b[39mfit(X_train, y_train)\n\u001b[1;32m      3\u001b[0m ans \u001b[39m=\u001b[39m class_estimator\u001b[39m.\u001b[39mpredict(X_test)\n\u001b[1;32m      4\u001b[0m accuracy_gini \u001b[39m=\u001b[39m accuracy_score(y_test, ans)\n",
      "\u001b[0;31mNameError\u001b[0m: name 'X_train' is not defined"
     ]
    }
   ],
   "source": [
    "class_estimator = DecisionTree(max_depth=5, criterion_name='gini')\n",
    "class_estimator.fit(X_train, y_train)\n",
    "ans = class_estimator.predict(X_test)\n",
    "accuracy_gini = accuracy_score(y_test, ans)\n",
    "assert 0.96 < accuracy_gini"
   ]
  },
  {
   "cell_type": "markdown",
   "metadata": {},
   "source": [
    "### Test 3: Entropy accuracy (0.2 points)"
   ]
  },
  {
   "cell_type": "code",
   "execution_count": null,
   "metadata": {
    "deletable": false,
    "editable": false,
    "nbgrader": {
     "cell_type": "code",
     "checksum": "b3b167fd8a4950ffe1f1b8f691ab7f91",
     "grade": true,
     "grade_id": "cell-69473387a23d8dff",
     "locked": true,
     "points": 0.2,
     "schema_version": 3,
     "solution": false,
     "task": false
    }
   },
   "outputs": [],
   "source": [
    "class_estimator = DecisionTree(max_depth=5, criterion_name='entropy')\n",
    "class_estimator.fit(X_train, y_train)\n",
    "ans = class_estimator.predict(X_test)\n",
    "accuracy = accuracy_score(y_test, ans)\n",
    "assert 0.96 < accuracy"
   ]
  },
  {
   "cell_type": "markdown",
   "metadata": {},
   "source": [
    "### Test 4: Entropy probabilities (0.2 points)"
   ]
  },
  {
   "cell_type": "code",
   "execution_count": null,
   "metadata": {
    "deletable": false,
    "editable": false,
    "nbgrader": {
     "cell_type": "code",
     "checksum": "2ea5402e3fc351fe4bdc17dc7d48b591",
     "grade": true,
     "grade_id": "cell-e5f59af66e6c111b",
     "locked": true,
     "points": 0.2,
     "schema_version": 3,
     "solution": false,
     "task": false
    }
   },
   "outputs": [],
   "source": [
    "class_estimator = DecisionTree(max_depth=10, criterion_name='entropy')\n",
    "class_estimator.fit(X_train, y_train)\n",
    "ans = class_estimator.predict(X_test)\n",
    "reference = np.array([0.48611111, 0.51388889])\n",
    "assert np.abs(np.sum(class_estimator.predict_proba(X_test).mean(axis=0) - reference)) < 1e-6"
   ]
  },
  {
   "cell_type": "markdown",
   "metadata": {},
   "source": [
    "### Test 5: MSE mad_median (0.15 points)"
   ]
  },
  {
   "cell_type": "code",
   "execution_count": null,
   "metadata": {
    "deletable": false,
    "editable": false,
    "nbgrader": {
     "cell_type": "code",
     "checksum": "740411f734d1c9841d5fcc124eb129d1",
     "grade": true,
     "grade_id": "cell-1a9c1e3609ed9aab",
     "locked": true,
     "points": 0.15,
     "schema_version": 3,
     "solution": false,
     "task": false
    }
   },
   "outputs": [],
   "source": [
    "housing = fetch_california_housing()\n",
    "random_indices = np.random.choice(np.arange(len(housing.data)), 500)\n",
    "\n",
    "regr_data = housing.data[random_indices]\n",
    "regr_target = housing.target[random_indices, None]\n",
    "RX_train, RX_test, Ry_train, Ry_test = train_test_split(regr_data, regr_target, test_size=0.2, random_state=42)\n",
    "\n",
    "regressor = DecisionTree(max_depth=8, criterion_name='mad_median')\n",
    "regressor.fit(RX_train, Ry_train)\n",
    "predictions_mad = regressor.predict(RX_test)\n",
    "mse = mean_squared_error(Ry_test, predictions_mad)\n",
    "assert 0.4 < mse < 2"
   ]
  },
  {
   "cell_type": "markdown",
   "metadata": {},
   "source": [
    "### Test 6: MSE Variance (0.15 points)"
   ]
  },
  {
   "cell_type": "code",
   "execution_count": null,
   "metadata": {
    "deletable": false,
    "editable": false,
    "nbgrader": {
     "cell_type": "code",
     "checksum": "d8ae6da572b6c3a76405ebfa4b9f4fd6",
     "grade": true,
     "grade_id": "cell-1ddb0377b6c68deb",
     "locked": true,
     "points": 0.15,
     "schema_version": 3,
     "solution": false,
     "task": false
    }
   },
   "outputs": [],
   "source": [
    "housing = fetch_california_housing()\n",
    "random_indices = np.random.choice(np.arange(len(housing.data)), 500)\n",
    "\n",
    "regr_data = housing.data[random_indices]\n",
    "regr_target = housing.target[random_indices, None]\n",
    "RX_train, RX_test, Ry_train, Ry_test = train_test_split(regr_data, regr_target, test_size=0.2, random_state=42)\n",
    "\n",
    "regressor = DecisionTree(max_depth=8, criterion_name='variance')\n",
    "regressor.fit(RX_train, Ry_train)\n",
    "predictions_mad = regressor.predict(RX_test)\n",
    "mse = mean_squared_error(Ry_test, predictions_mad)\n",
    "assert 0.5 < mse < 1.8"
   ]
  }
 ],
 "metadata": {
  "kernelspec": {
   "display_name": ".venv",
   "language": "python",
   "name": "python3"
  },
  "language_info": {
   "codemirror_mode": {
    "name": "ipython",
    "version": 3
   },
   "file_extension": ".py",
   "mimetype": "text/x-python",
   "name": "python",
   "nbconvert_exporter": "python",
   "pygments_lexer": "ipython3",
   "version": "3.10.6 (main, Nov 14 2022, 16:10:14) [GCC 11.3.0]"
  },
  "vscode": {
   "interpreter": {
    "hash": "4701a41cc9b12414c12e35c7dc75171868c0dd6b3b8fea64940492d27b905716"
   }
  }
 },
 "nbformat": 4,
 "nbformat_minor": 4
}
